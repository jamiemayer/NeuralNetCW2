{
 "cells": [
  {
   "cell_type": "code",
   "execution_count": 1,
   "metadata": {
    "collapsed": false
   },
   "outputs": [],
   "source": [
    "%matplotlib inline\n",
    "import csv\n",
    "import numpy as np\n",
    "import matplotlib.pyplot as plt\n",
    "import scipy.spatial"
   ]
  },
  {
   "cell_type": "code",
   "execution_count": 2,
   "metadata": {
    "collapsed": false
   },
   "outputs": [],
   "source": [
    "data = []\n",
    "with open('data105882.csv','rb') as dataset:\n",
    "    dataReader = csv.reader(dataset)\n",
    "    for row in dataReader:\n",
    "        data.append(row)\n",
    "for i in range(len(data)):\n",
    "    for j in range(len(data[i])):\n",
    "        data[i][j] = float(data[i][j])\n",
    "\n",
    "data = np.array(data)\n",
    "labels = data[:,7]\n",
    "data = data[:,:7]"
   ]
  },
  {
   "cell_type": "markdown",
   "metadata": {},
   "source": [
    "The above reads in data, creating a 7D feature matrix and a corresponding ground truth vector."
   ]
  },
  {
   "cell_type": "code",
   "execution_count": 3,
   "metadata": {
    "collapsed": false
   },
   "outputs": [],
   "source": [
    "for i in range(len(data[0])):\n",
    "    mu = np.mean(data[:,i])\n",
    "    sig = np.std(data[:,i])\n",
    "    data[:,i]= (data[:,i]-mu)/sig"
   ]
  },
  {
   "cell_type": "markdown",
   "metadata": {},
   "source": [
    "Data Standardised. I.E demeaned and variance given unit length."
   ]
  },
  {
   "cell_type": "code",
   "execution_count": 4,
   "metadata": {
    "collapsed": false
   },
   "outputs": [],
   "source": [
    "phi = scipy.spatial.distance_matrix(data,data)\n",
    "\n",
    "phi = np.array(phi)\n",
    "\n",
    "phinv = np.linalg.pinv(phi)"
   ]
  },
  {
   "cell_type": "markdown",
   "metadata": {},
   "source": [
    "Phi function is the identity function. I.E, $\\phi(\\underline{x}) = dist(\\underline{x})$. Each datapoint is a center and the matrix $\\phi$ consists of the distance from each datapoint $x_{i}$ to every other datapoint. Resulting in zeroes on the diagonal."
   ]
  },
  {
   "cell_type": "code",
   "execution_count": 5,
   "metadata": {
    "collapsed": false
   },
   "outputs": [],
   "source": [
    "w = np.matmul(phinv,labels)"
   ]
  },
  {
   "cell_type": "code",
   "execution_count": 6,
   "metadata": {
    "collapsed": true
   },
   "outputs": [],
   "source": [
    "y = phi.dot(w)"
   ]
  },
  {
   "cell_type": "code",
   "execution_count": 7,
   "metadata": {
    "collapsed": false
   },
   "outputs": [
    {
     "data": {
      "text/plain": [
       "<matplotlib.text.Text at 0x7020780>"
      ]
     },
     "execution_count": 7,
     "metadata": {},
     "output_type": "execute_result"
    },
    {
     "data": {
      "image/png": "[encoded data removed]",
      "text/plain": [
       "<matplotlib.figure.Figure at 0x6fc99e8>"
      ]
     },
     "metadata": {},
     "output_type": "display_data"
    }
   ],
   "source": [
    "plt.scatter(labels,y)\n",
    "plt.xlabel('Ground Truth')\n",
    "plt.ylabel('RBF Output')"
   ]
  },
  {
   "cell_type": "markdown",
   "metadata": {},
   "source": [
    "Full interpolation, ground truth plot against rbf output. $x$ = $y$\n",
    "\n",
    "The definition of overfitting so bad."
   ]
  },
  {
   "cell_type": "code",
   "execution_count": 103,
   "metadata": {
    "collapsed": false
   },
   "outputs": [],
   "source": [
    "def kmeans(k):\n",
    "    c = np.random.randint(0,len(data),size=k)\n",
    "    centres = []\n",
    "    centres+=(data[i]for i in c)\n",
    "    centres = np.array(centres)\n",
    "    eta = 1\n",
    "    sse = 0\n",
    "    for k in range(10):\n",
    "        for i in range(len(data)):\n",
    "            nearest = 0\n",
    "            nearest_dist = np.inf\n",
    "            for j in range(len(centres)):\n",
    "                dist = scipy.spatial.distance.euclidean(data[i],centres[j])\n",
    "                if dist < nearest_dist:\n",
    "                    nearest = j\n",
    "                    nearest_dist = dist\n",
    "            deltC = eta*(data[i]-centres[nearest])\n",
    "            centres[nearest] += deltC\n",
    "            sse+= nearest_dist**2\n",
    "    #plt.scatter(data[:,0], data[:,1])\n",
    "    #plt.scatter(centres[:,0],centres[:,1], c='r')\n",
    "    return centres,sse"
   ]
  },
  {
   "cell_type": "code",
   "execution_count": null,
   "metadata": {
    "collapsed": false
   },
   "outputs": [],
   "source": [
    "kVals = np.arange(100,1100,step=100)\n",
    "\n",
    "errs = []\n",
    "for k in kVals:\n",
    "    centres, sse = kmeans(k)\n",
    "    errs.append(sse)"
   ]
  },
  {
   "cell_type": "markdown",
   "metadata": {},
   "source": [
    "Running the kMeans algorithm with multiple values for $k$ and assessing the Sum of Square errors for each $k$ value. The SSE is computed by summing the squared distance between each datapoint and it's center."
   ]
  },
  {
   "cell_type": "code",
   "execution_count": 101,
   "metadata": {
    "collapsed": false
   },
   "outputs": [
    {
     "data": {
      "text/plain": [
       "[<matplotlib.lines.Line2D at 0x1aaa0940>]"
      ]
     },
     "execution_count": 101,
     "metadata": {},
     "output_type": "execute_result"
    },
    {
     "data": {
      "image/png": "[encoded data removed]",
      "text/plain": [
       "<matplotlib.figure.Figure at 0x1a82a0b8>"
      ]
     },
     "metadata": {},
     "output_type": "display_data"
    }
   ],
   "source": [
    "plt.plot(kVals,errs)"
   ]
  },
  {
   "cell_type": "code",
   "execution_count": null,
   "metadata": {
    "collapsed": false
   },
   "outputs": [],
   "source": []
  },
  {
   "cell_type": "code",
   "execution_count": null,
   "metadata": {
    "collapsed": true
   },
   "outputs": [],
   "source": []
  }
 ],
 "metadata": {
  "anaconda-cloud": {},
  "kernelspec": {
   "display_name": "Python [Root]",
   "language": "python",
   "name": "Python [Root]"
  },
  "language_info": {
   "codemirror_mode": {
    "name": "ipython",
    "version": 2
   },
   "file_extension": ".py",
   "mimetype": "text/x-python",
   "name": "python",
   "nbconvert_exporter": "python",
   "pygments_lexer": "ipython2",
   "version": "2.7.12"
  }
 },
 "nbformat": 4,
 "nbformat_minor": 0
}
